{
 "cells": [
  {
   "cell_type": "code",
   "execution_count": 4,
   "metadata": {},
   "outputs": [],
   "source": [
    "import pystan\n",
    "import pylab as plt\n",
    "import seaborn as sns\n",
    "import numpy as np\n",
    "%matplotlib inline\n",
    "import pandas as pd\n",
    "import seaborn as sns\n",
    "from matplotlib.transforms import Transform\n",
    "from matplotlib.ticker import (\n",
    "    AutoLocator, AutoMinorLocator)\n",
    "%matplotlib inline"
   ]
  },
  {
   "cell_type": "markdown",
   "metadata": {},
   "source": [
    "# MindLab Model for shelving\n",
    "There are three variables that could effect whether an item is selected, `product_index`, `product` and `price`. \n",
    "\n",
    "$$y_{\\alpha,\\gamma,\\beta}\\sim\\mbox{binomial}\\left( n_{\\alpha,\\gamma, \\beta},p_{\\alpha,\\gamma,\\beta}\\right),\\mbox{ for } j=1,\\dots, J.$$\n",
    "\n",
    "* $y_{\\alpha,\\gamma}$ are the responses to a particular product ($\\alpha$) at a particular price ($\\beta$)and location on shelf ($\\gamma$) i.e. `fit`=1 or `does not fit`=0"
   ]
  },
  {
   "cell_type": "code",
   "execution_count": 59,
   "metadata": {},
   "outputs": [
    {
     "data": {
      "image/png": "[encoded data removed]",
      "text/plain": [
       "<Figure size 590.551x472.441 with 1 Axes>"
      ]
     },
     "metadata": {},
     "output_type": "display_data"
    }
   ],
   "source": [
    "import daft\n",
    "pgm = daft.PGM(shape=(5,4),observed_style=\"inner\",dpi=150)\n",
    "\n",
    "pgm.add_node('p',r'$p_i$',1.8,2)\n",
    "pgm.add_node('n',r'$n_i$',2.4,2.5,fixed=True)\n",
    "\n",
    "pgm.add_node('y',r'$y_i$',2,1.3,observed=True)\n",
    "pgm.add_edge('p','y')\n",
    "pgm.add_edge('n','y')\n",
    "\n",
    "\n",
    "\n",
    "\n",
    "pgm.add_plate([1.5, 0.7, 1, 2.5], label=r\"$i = 1, \\ldots, I$\", shift=-0.1)\n",
    "# Render and save.\n",
    "pgm.render()\n",
    "pgm.show()"
   ]
  },
  {
   "cell_type": "code",
   "execution_count": 20,
   "metadata": {},
   "outputs": [],
   "source": [
    "model=\"\"\"\n",
    "data{\n",
    "int N;\n",
    "int n_abg[N];\n",
    "int y[N];\n",
    "int fit;\n",
    "}\n",
    "\n",
    "parameters {\n",
    "real<lower=0,upper=1.0> p[N];\n",
    "\n",
    "}\n",
    "\n",
    "model{\n",
    "  if (fit > 0){\n",
    "\n",
    "y~binomial(n_abg,p);\n",
    "}\n",
    "}\n",
    "\n",
    "generated quantities {\n",
    "int y_pred[N];\n",
    "for (i in 1:N){\n",
    "y_pred[i]=binomial_rng(n_abg[i], p[i]);\n",
    "}\n",
    "}\n",
    "\"\"\""
   ]
  },
  {
   "cell_type": "code",
   "execution_count": 21,
   "metadata": {},
   "outputs": [
    {
     "name": "stderr",
     "output_type": "stream",
     "text": [
      "INFO:pystan:COMPILING THE C++ CODE FOR MODEL anon_model_d88c6dcafb11f1ba23a30f5f07ef7c23 NOW.\n"
     ]
    }
   ],
   "source": [
    "sm=pystan.StanModel(model_code=model)"
   ]
  },
  {
   "cell_type": "code",
   "execution_count": 25,
   "metadata": {},
   "outputs": [],
   "source": [
    "data={\n",
    "    'N':10,\n",
    "    'n_abg':np.full(10,(100)),\n",
    "    'y':np.full(10,(0)),\n",
    "    'fit':0\n",
    "}"
   ]
  },
  {
   "cell_type": "code",
   "execution_count": 26,
   "metadata": {},
   "outputs": [],
   "source": [
    "fit=sm.sampling(data=data,chains=1,iter=500)"
   ]
  },
  {
   "cell_type": "code",
   "execution_count": 28,
   "metadata": {},
   "outputs": [
    {
     "name": "stderr",
     "output_type": "stream",
     "text": [
      "INFO:pystan:n_eff / iter looks reasonable for all parameters\n",
      "INFO:pystan:Rhat looks reasonable for all parameters\n",
      "INFO:pystan:No divergent transitions found.\n",
      "INFO:pystan:No transitions that ended prematurely due to maximum tree depth limit\n",
      "INFO:pystan:Chain 1: E-BFMI (= 0.79) equals or exceeds threshold of 0.2.\n",
      "INFO:pystan:E-BFMI indicated no pathological behavior\n"
     ]
    },
    {
     "data": {
      "text/plain": [
       "{'n_eff': True,\n",
       " 'Rhat': True,\n",
       " 'divergence': True,\n",
       " 'treedepth': True,\n",
       " 'energy': True}"
      ]
     },
     "execution_count": 28,
     "metadata": {},
     "output_type": "execute_result"
    }
   ],
   "source": [
    "pystan.diagnostics.check_hmc_diagnostics(fit,verbose=3)"
   ]
  },
  {
   "cell_type": "code",
   "execution_count": 34,
   "metadata": {},
   "outputs": [],
   "source": [
    "s=0\n",
    "data={\n",
    "    'N':10,\n",
    "    'n_abg':fit.data['n_abg'],\n",
    "    'y':fit['y_pred'][s,:].astype(int),\n",
    "    'fit':1\n",
    "}"
   ]
  },
  {
   "cell_type": "code",
   "execution_count": 35,
   "metadata": {},
   "outputs": [],
   "source": [
    "fit_prior=sm.sampling(data=data,chains=1,iter=500)"
   ]
  },
  {
   "cell_type": "code",
   "execution_count": 36,
   "metadata": {},
   "outputs": [
    {
     "data": {
      "text/plain": [
       "Inference for Stan model: anon_model_d88c6dcafb11f1ba23a30f5f07ef7c23.\n",
       "1 chains, each with iter=500; warmup=250; thin=1; \n",
       "post-warmup draws per chain=250, total post-warmup draws=250.\n",
       "\n",
       "             mean se_mean     sd   2.5%    25%    50%    75%  97.5%  n_eff   Rhat\n",
       "p[1]         0.77  2.6e-3   0.04   0.69   0.75   0.77    0.8   0.85    261    1.0\n",
       "p[2]         0.08  1.2e-3   0.03   0.03   0.06   0.08   0.09   0.13    454    1.0\n",
       "p[3]         0.62  1.9e-3   0.05   0.53   0.59   0.61   0.65   0.71    569    1.0\n",
       "p[4]         0.72  1.6e-3   0.04   0.63   0.69   0.72   0.74   0.79    600    1.0\n",
       "p[5]          0.5  2.0e-3   0.05   0.41   0.47    0.5   0.53   0.59    544    1.0\n",
       "p[6]          0.8  1.5e-3   0.04   0.71   0.78   0.81   0.83   0.88    700    1.0\n",
       "p[7]         0.77  1.9e-3   0.04   0.69   0.75   0.78    0.8   0.84    401    1.0\n",
       "p[8]         0.19  1.9e-3   0.04   0.12   0.16   0.19   0.22    0.3    500    1.0\n",
       "p[9]         0.87  1.5e-3   0.03    0.8   0.85   0.88    0.9   0.93    499    1.0\n",
       "p[10]        0.18  2.0e-3   0.04   0.12   0.16   0.18   0.21   0.27    398    1.0\n",
       "y_pred[1]   77.06    0.37   5.88   65.0   73.0   76.0   81.0  88.34    255    1.0\n",
       "y_pred[2]    7.77    0.21    3.7    1.0    5.0    8.0   10.0  16.34    319    1.0\n",
       "y_pred[3]   61.41    0.43   6.88  47.66   57.0   62.0   66.0   74.0    261    1.0\n",
       "y_pred[4]    71.6    0.41   6.15   60.0   68.0   72.0   76.0   84.0    229    1.0\n",
       "y_pred[5]   50.45    0.36   7.03  36.66   46.0   50.0   55.0   65.0    382    1.0\n",
       "y_pred[6]   80.68    0.26   5.57   68.0   77.0   81.0   84.0   90.0    470    1.0\n",
       "y_pred[7]    77.0    0.33   6.05   63.0   73.0   78.0   81.0   87.0    336    1.0\n",
       "y_pred[8]   19.32    0.31    5.8   9.66   15.0   19.0   23.0   32.0    339    1.0\n",
       "y_pred[9]   87.36    0.22   4.55  78.66   85.0   88.0   91.0   95.0    425   1.01\n",
       "y_pred[10]  18.79    0.37    5.9    8.0   15.0   19.0   22.0  30.34    252    1.0\n",
       "lp__       -530.2     0.2   2.17 -535.4 -531.3 -530.0 -528.8 -526.8    117   1.01\n",
       "\n",
       "Samples were drawn using NUTS at Wed Feb 19 11:41:12 2020.\n",
       "For each parameter, n_eff is a crude measure of effective sample size,\n",
       "and Rhat is the potential scale reduction factor on split chains (at \n",
       "convergence, Rhat=1)."
      ]
     },
     "execution_count": 36,
     "metadata": {},
     "output_type": "execute_result"
    }
   ],
   "source": [
    "fit_prior"
   ]
  },
  {
   "cell_type": "code",
   "execution_count": 37,
   "metadata": {},
   "outputs": [],
   "source": [
    "p=fit_prior.data['y']/fit.data['n_abg']\n",
    "error=np.sqrt(p*(1-p)/fit.data['n_abg'])"
   ]
  },
  {
   "cell_type": "code",
   "execution_count": 47,
   "metadata": {},
   "outputs": [
    {
     "data": {
      "text/plain": [
       "[<matplotlib.lines.Line2D at 0x7f8f495a6550>]"
      ]
     },
     "execution_count": 47,
     "metadata": {},
     "output_type": "execute_result"
    },
    {
     "data": {
      "image/png": "[encoded data removed]",
      "text/plain": [
       "<Figure size 432x288 with 1 Axes>"
      ]
     },
     "metadata": {
      "needs_background": "light"
     },
     "output_type": "display_data"
    }
   ],
   "source": [
    "plt.errorbar(np.arange(0,10),p,yerr=error,fmt='o')\n",
    "plt.violinplot(fit_prior['p'],positions=np.arange(0,10),showextrema=False);\n",
    "plt.plot(np.arange(0,10),fit['p'][s,:],'o')"
   ]
  },
  {
   "cell_type": "code",
   "execution_count": 45,
   "metadata": {},
   "outputs": [
    {
     "data": {
      "text/plain": [
       "[<matplotlib.lines.Line2D at 0x7f8f4808fed0>]"
      ]
     },
     "execution_count": 45,
     "metadata": {},
     "output_type": "execute_result"
    },
    {
     "data": {
      "image/png": "[encoded data removed]",
      "text/plain": [
       "<Figure size 432x288 with 1 Axes>"
      ]
     },
     "metadata": {
      "needs_background": "light"
     },
     "output_type": "display_data"
    }
   ],
   "source": [
    "plt.plot(np.std(fit_prior['p'],axis=0),error,'o')"
   ]
  },
  {
   "cell_type": "code",
   "execution_count": null,
   "metadata": {},
   "outputs": [],
   "source": []
  }
 ],
 "metadata": {
  "kernelspec": {
   "display_name": "Python 3",
   "language": "python",
   "name": "python3"
  },
  "language_info": {
   "codemirror_mode": {
    "name": "ipython",
    "version": 3
   },
   "file_extension": ".py",
   "mimetype": "text/x-python",
   "name": "python",
   "nbconvert_exporter": "python",
   "pygments_lexer": "ipython3",
   "version": "3.7.6"
  }
 },
 "nbformat": 4,
 "nbformat_minor": 2
}
